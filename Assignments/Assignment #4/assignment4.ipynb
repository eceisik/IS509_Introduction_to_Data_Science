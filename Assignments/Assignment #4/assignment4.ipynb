{
 "cells": [
  {
   "cell_type": "markdown",
   "id": "eea3b623-92ce-436d-8a9e-841cf7a609b1",
   "metadata": {},
   "source": [
    "# IS509 Assignment 4\n",
    "\n",
    "### Due: January 16, Sunday-23.30\n",
    "\n",
    "### Submission and Grading Policy\n",
    "\n",
    "- Submit your assignments to the corresponding assignment link in https://odtuclass.metu.edu.tr.\n",
    "- Solutions should be submitted in a single **ipynb** file named: metu-username_HW_4.ipynb (e.g., “e123456_HW_4.ipynb”).\n",
    "- Late submissions will be accepted by January 19, 2022, 23:30 with 5% per day penalty.\n",
    "<!-- - Do not change variable names in the code blocks and the texts in the markdowns. -->\n",
    "- **This is an individual assignment. You have to adhere to the academic integrity principles.**\n",
    "- You are supposed to be able to interpret your findings. Hence, you shouldn't just find a number or result and just leave it. You need to comment on your findings by giving as much as **necessary** details."
   ]
  },
  {
   "cell_type": "markdown",
   "id": "f07608fc-74e7-4310-8fbe-801de346acc2",
   "metadata": {},
   "source": [
    "#### <span style=\"background-color:#7299EB\">After applying required preprocessing steps, fit specified models to the data.</span>    \n",
    "    \n",
    "#### <span style=\"background-color:#7299EB\">    When necessary you can use (%70 train - %30 test) or (%60 train - %20 validation - %20 test) splits for the questions. </span>\n",
    "\n",
    "\n",
    "## PART 1-Classification\n",
    "    \n",
    "**Q1.(50).** Fit Logistic Regression, Gaussian Naive Bayes,  Decision Tree models to your training set. **Perform hyperparameter tuning** and try to figure out the best model. Report the model performances. Which performance metric would you prefer to use for Part I? Why? Comment on your findings.\n",
    "    \n",
    "### PART 2\n",
    "    \n",
    "**Q2.(15).** Generate k-means models for k= 2, 3, 4, 5, 6, 7, 8, 9, and 10. Determine the optimal value of k by looking at the wss graph and silhouette scores.   \n",
    "\n",
    "**Q3.(15).** Generate DBSCAN models for epsilon values between 0.1 (included) and 2.5(included) incrementing it with steps=0.10 and for min_samples=5, 10, 15 and 20. Find the optimal value of k by adjusted rand scores. (While calculating adjusted rand scores, you will need true labels. Please see https://scikit-learn.org/stable/modules/generated/sklearn.metrics.adjusted_rand_score.html#sklearn.metrics.adjusted_rand_score)   \n",
    "\n",
    "**Q4.(20).** Plot the clusters for only the optimal k values based on predicted clusters that you obtain Q2 and Q3. Plot the original data based on the true labels. Did you obtain the same optimal k values in Q2 and Q3? Comment on the quality of the clusters that you obtained in Q2 and Q3. Can we predict the true label of the data by using clustering? Which algorithm gave a better result? What could be the reason one of them outperforms in different cases?\n",
    "\n",
    "**Do not forget to use random_state and seeds for reproducibility.** "
   ]
  }
 ],
 "metadata": {
  "kernelspec": {
   "display_name": "Python 3",
   "language": "python",
   "name": "python3"
  },
  "language_info": {
   "codemirror_mode": {
    "name": "ipython",
    "version": 3
   },
   "file_extension": ".py",
   "mimetype": "text/x-python",
   "name": "python",
   "nbconvert_exporter": "python",
   "pygments_lexer": "ipython3",
   "version": "3.7.6"
  }
 },
 "nbformat": 4,
 "nbformat_minor": 5
}
