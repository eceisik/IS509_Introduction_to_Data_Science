{
 "cells": [
  {
   "cell_type": "markdown",
   "metadata": {},
   "source": [
    "# IS509 Assignment 34\n",
    "\n",
    "### Due: December 22, Monday-23.30\n",
    "\n",
    "### Submission and Grading Policy\n",
    "\n",
    "- Submit your assignments to the corresponding assignment link in https://odtuclass.metu.edu.tr.\n",
    "- Solutions should be submitted in a single **ipynb** file named: metu-username_HW_3.ipynb (e.g., “e123456_HW_3.ipynb”).\n",
    "- Late submissions will be accepted by December 25, 2021, 23:30 with 5% per day penalty.\n",
    "<!-- - Do not change variable names in the code blocks and the texts in the markdowns. -->\n",
    "- **This is an individual assignment. You have to adhere to the academic integrity principles.**\n",
    "- You are supposed to be able to interpret your findings. Hence, you shouldn't just find a number or result and just leave it. You need to comment on your findings by giving as much as **necessary** details."
   ]
  },
  {
   "cell_type": "markdown",
   "metadata": {},
   "source": [
    "For the following questions, use the provided dataset (data.csv) that consists of 1000 examples with eleven input features (c1, c2, n1, n2, n3, n4, n5, n6, u1, u2, u3) and one target variable (y).   \n",
    "Please apply preprocessing steps, if necessary."
   ]
  },
  {
   "cell_type": "markdown",
   "metadata": {},
   "source": [
    "## Q1) Train-Test split (25 pts)\n",
    "\n",
    "In this part, train-test split will be applied with test sizes of 5%,10%,...., 90%, and 95%. \n",
    "\n",
    "- For each test size option, randomly split the original dataset into a training set and a testing set, fit a linear regression model using the train set, and calculate mean squared error (MSE) on the train set and the test set. \n",
    "\n",
    "- Repeat the above experiment 100 times for each test size option and find the median and the interquartile range (IQR) of MSE values for each test size option. (You may also consider other statistics that you think helpful to comment on the results)\n",
    "\n",
    "- Plot and comment on the results. \n",
    "\n",
    "- Are the medians and the IQR of MSE similar for different test sizes? Why are they different (or the same)?\n",
    "\n",
    "- Which option (or options) seems to be better for training/testing on this dataset? Explain your reasoning."
   ]
  },
  {
   "cell_type": "markdown",
   "metadata": {},
   "source": [
    "## Q2 - Sample Size (25 pts)\n",
    "\n",
    "In this part, models will be trained by using random samples of size 50,100,150,200,250,....,900, and 950 rows taken from the original dataset. \n",
    "\n",
    "- For each sample size option, randomly take a sample from the given dataset, apply train-test split (%70 train-%30 test), fit a linear regression model, and evaluate MSE on the train and test sets. \n",
    "\n",
    "- Repeat the above experiment 100 times for each sample size option and find the median and IQR of MSE values for each sample size option. (You may also consider other statistics that you think helpful to comment on the results)\n",
    "\n",
    "- Plot and comment on the results.\n",
    "\n",
    "- Are the performances on the train and test sets similar for different sample sizes? If not, why are the performances on the train set better/worse than the performance on the test set? You can answer these questions for small and large sample sizes separately. \n",
    "\n",
    "- If there were more examples in the dataset, would the performance improve? \n",
    "\n",
    "- Could regularization improve the performance on the test set for small samples and/or large samples? Briefly explain your reasoning.      "
   ]
  },
  {
   "cell_type": "markdown",
   "metadata": {},
   "source": [
    "## Q3 - Polynomial Expansion d=2 (25 pts)\n",
    "\n",
    "Answer the same questions in part Q2 (above) after applying polynomial expansion with degree=2 on the given dataset.    \n",
    "**(Note: do not include bias i.e., set parameter include_bias=False)**  "
   ]
  },
  {
   "cell_type": "markdown",
   "metadata": {},
   "source": [
    "## Q4 - Train (25 pts)\n",
    "\n",
    "Take the first 100 rows of the given dataset as the input dataset. Then, use the LASSO regularization to fit the best possible model to the input dataset (perhaps, applying polynomial expansion with a suitable degree). When necessary you can use (%70 train - %30 test) or (%60 train - %20 validation - %20 test) splits. \n",
    "\n",
    "Report the model performance on the train/validation/test sets. \n",
    "\n",
    "What is the regression equation for the best model that you found? (You can simply consider magnitudes of the coefficients and include only the features that significantly contribute to the target variable)"
   ]
  }
 ],
 "metadata": {
  "kernelspec": {
   "display_name": "Python 3",
   "language": "python",
   "name": "python3"
  },
  "language_info": {
   "codemirror_mode": {
    "name": "ipython",
    "version": 3
   },
   "file_extension": ".py",
   "mimetype": "text/x-python",
   "name": "python",
   "nbconvert_exporter": "python",
   "pygments_lexer": "ipython3",
   "version": "3.7.6"
  }
 },
 "nbformat": 4,
 "nbformat_minor": 4
}
