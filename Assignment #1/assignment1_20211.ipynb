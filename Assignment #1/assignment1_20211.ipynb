{
 "cells": [
  {
   "cell_type": "markdown",
   "metadata": {},
   "source": [
    "# IS509 Assignment 1\n",
    "\n",
    "### Due: November 14, Sunday-23.59\n",
    "\n",
    "### Submission and Grading Policy\n",
    "\n",
    "- Submit your assignments to the corresponding assignment link in https://odtuclass.metu.edu.tr.\n",
    "- Solutions should be submitted in a single **ipynb** file named: metu-username_HW_1.ipynb (e.g., “e123456_HW_1.ipynb”).\n",
    "- Late submissions will be accepted by November 17, 2021, 23:59 with a 5% per day penalty.\n",
    "- Do not change variable names in the code blocks and the texts in the markdowns.\n",
    "- **<font color=#C91414>This is an individual assignment. Please do not collaborate. You have to adhere to the academic integrity principles.</font>** \n",
    "- You are supposed to be able to interpret your findings. Therefore, you should not find a number or result and just leave it. You also need to comment on your findings by giving as much as **necessary** details.\n",
    "\n",
    "------------\n",
    "\n",
    "### The aim of this assignment is getting you familiar with\n",
    "- Python and Jupyter notebook\n",
    "- simple data cleaning\n",
    "- descriptive statistics interpretation and\n",
    "- visualizing methods\n"
   ]
  },
  {
   "cell_type": "markdown",
   "metadata": {},
   "source": [
    "**1. Import pandas, numpy, matplotlib and seaborn libraries.**  \n",
    "If you need another library or packages, you may upload them too."
   ]
  },
  {
   "cell_type": "code",
   "execution_count": 1,
   "metadata": {},
   "outputs": [],
   "source": [
    "from scipy import stats\n",
    "import statsmodels.api as sm \n",
    "import pylab as py \n",
    "\n",
    "### answer ###\n"
   ]
  },
  {
   "cell_type": "markdown",
   "metadata": {},
   "source": [
    "**2. Upload the data as a pandas dataframe and show the first three rows.**"
   ]
  },
  {
   "cell_type": "code",
   "execution_count": 2,
   "metadata": {},
   "outputs": [],
   "source": [
    "### answer ###\n"
   ]
  },
  {
   "cell_type": "markdown",
   "metadata": {},
   "source": [
    "----------\n",
    "### Data Explanation\n",
    "\n",
    "**number_of_room:** number of room in the house    \n",
    "**neighbourhood:** the score for the neighbourhood (very low, low, moderate, high, very high)    \n",
    "**material_quality:** the material quality of the house    \n",
    "**age:** age of the house (in years)    \n",
    "**distance:** the distance to the nearest public transportation (in meters)     \n",
    "**number_of_bathroom:** number of bathroom   \n",
    "**area:** house area      \n",
    "**balcony:** Does the house have a balcony?\n",
    "**thermal_insulation_point:** score for thermal insulation    \n",
    "**air_quality:** air quality in the neighbourhood    \n",
    "**price:** price of the house (in USD K)    \n",
    "     "
   ]
  },
  {
   "cell_type": "markdown",
   "metadata": {},
   "source": [
    "**3. How many features and observations are there in the data set (rows x columns)?**"
   ]
  },
  {
   "cell_type": "code",
   "execution_count": 3,
   "metadata": {},
   "outputs": [],
   "source": [
    "### answer ###\n"
   ]
  },
  {
   "cell_type": "markdown",
   "metadata": {},
   "source": [
    "### <span style=\"background-color:#C91414\">Usually you need to deal with low quality data </span> \n",
    "\n",
    "**4.Change encoding of the neighbourhood, material_quality and balcony as stated below.**       \n",
    "For neighbourhood; Very Low=1, Low=2, Moderate=3, High=4, Very High=5   \n",
    "For material_quality; A=1, B=2, C=3, D=4   \n",
    "For balcony; no=0 , yes=1  "
   ]
  },
  {
   "cell_type": "code",
   "execution_count": 4,
   "metadata": {},
   "outputs": [],
   "source": [
    "### answer ###\n"
   ]
  },
  {
   "cell_type": "code",
   "execution_count": 10,
   "metadata": {},
   "outputs": [],
   "source": [
    "data.head()"
   ]
  },
  {
   "cell_type": "markdown",
   "metadata": {},
   "source": [
    "Notice that although some columns contain numerical values, sometimes they are not reflected in the describe() method. The reason of this, these columns are read as strings. If you face this problem, to fix it,  please run the below code.\n",
    "> data= data.apply(pd.to_numeric)\n",
    "   \n",
    "Please be aware that the numeric encoding of a column does not mean that the variable/attribute itself is numerical.  \n"
   ]
  },
  {
   "cell_type": "markdown",
   "metadata": {},
   "source": [
    "**5.Rename the name of \"air_quality\" column as \"air_quality_score\"**"
   ]
  },
  {
   "cell_type": "code",
   "execution_count": 6,
   "metadata": {},
   "outputs": [
    {
     "name": "stdout",
     "output_type": "stream",
     "text": [
      "Index(['number_of_room', 'neighbourhood', 'material_quality', 'age',\n",
      "       'distance', 'number_of_bathroom', 'area', 'balcony',\n",
      "       'thermal_insulation_point', 'air_quality', 'price'],\n",
      "      dtype='object')\n"
     ]
    }
   ],
   "source": [
    "print(data.columns) ## .columns returns the column names of the DataFrame.   "
   ]
  },
  {
   "cell_type": "code",
   "execution_count": 7,
   "metadata": {},
   "outputs": [],
   "source": [
    "### answer ###\n"
   ]
  },
  {
   "cell_type": "code",
   "execution_count": 6,
   "metadata": {},
   "outputs": [],
   "source": [
    "data.head()"
   ]
  },
  {
   "cell_type": "markdown",
   "metadata": {},
   "source": [
    "Notice that some data points are missing. For example, see the value of the balcony by typing **print(data.iloc[64])**    \n",
    "**6. Find and print the number of missing values in each column**"
   ]
  },
  {
   "cell_type": "code",
   "execution_count": 7,
   "metadata": {},
   "outputs": [],
   "source": [
    "print(data.iloc[64])\n",
    "### answer ###\n",
    "\n"
   ]
  },
  {
   "cell_type": "markdown",
   "metadata": {},
   "source": [
    "**7. Drop the columns which have more than %10 missing value rate.**"
   ]
  },
  {
   "cell_type": "code",
   "execution_count": 8,
   "metadata": {},
   "outputs": [],
   "source": [
    "### answer ###\n",
    "\n"
   ]
  },
  {
   "cell_type": "markdown",
   "metadata": {},
   "source": [
    "**8. Create a dataframe named data_wo_na by dropping the rows which have missing values.  \n",
    "What is the shape (rows x columns) of newly created data frame \"data_wo_na\"?**   \n",
    "Please do the rest of the assignment with data_wo_na."
   ]
  },
  {
   "cell_type": "code",
   "execution_count": 9,
   "metadata": {},
   "outputs": [],
   "source": [
    "### answer ###\n"
   ]
  },
  {
   "cell_type": "markdown",
   "metadata": {},
   "source": [
    "**9. Summarize and briefly interpret the data with appropriate descriptive statistics.  \n",
    "Comment on the distribution of the attributes (bell-shaped, left-skewed, right-skewed, or how peaked etc.) <font color=#C91414> just by looking at descriptive statistics.</font> \n",
    "While answering Q10, you may want to revise your comments.**    \n",
    "Hint: The purpose of this question is to measure whether you can comment on the distribution of data by looking at descriptive statistics. \n",
    "However, just looking at the descriptive statistics is not always enough. For this reason, it is stated that after answering Q10 (after visualizing the data), you may want to revise your comments."
   ]
  },
  {
   "cell_type": "markdown",
   "metadata": {},
   "source": [
    "**Double click and write your explanations and comments here.**"
   ]
  },
  {
   "cell_type": "code",
   "execution_count": 11,
   "metadata": {},
   "outputs": [],
   "source": [
    "### answer ###\n"
   ]
  },
  {
   "cell_type": "markdown",
   "metadata": {},
   "source": [
    "**10. Visualize the distributions of the numeric attributes. Comment whether they are similar to Gaussian/Normal distirbution or not. Give your reasons and support them with appropriate visualization techniques.**     \n",
    "Support your answer with what you found in the previous question.\n",
    "Hint: You can use subplotting to see the several plots of same attribute at a one time."
   ]
  },
  {
   "cell_type": "code",
   "execution_count": 12,
   "metadata": {},
   "outputs": [],
   "source": [
    "# answer"
   ]
  },
  {
   "cell_type": "markdown",
   "metadata": {},
   "source": [
    "**Double click and write your explanations here.**  \n"
   ]
  },
  {
   "cell_type": "markdown",
   "metadata": {},
   "source": [
    "**11. For categoric attributes draw countplots and briefly comment on them.**  \n",
    "Hint: You can use seaborn library. Please see the documentation via https://seaborn.pydata.org/api.html."
   ]
  },
  {
   "cell_type": "code",
   "execution_count": 13,
   "metadata": {},
   "outputs": [],
   "source": [
    "# answer"
   ]
  },
  {
   "cell_type": "markdown",
   "metadata": {},
   "source": [
    "**Double click and write your explanations and comments here.**"
   ]
  },
  {
   "cell_type": "markdown",
   "metadata": {},
   "source": [
    "**12. Determine the appropriate descriptive location measure for each of the numerical attributes.**"
   ]
  },
  {
   "cell_type": "markdown",
   "metadata": {},
   "source": [
    "**Double click and write your explanations and comments here.**"
   ]
  },
  {
   "cell_type": "markdown",
   "metadata": {},
   "source": [
    "**13. Find out whether there are any outliers and make one suggestion regarding how to deal with them.**"
   ]
  },
  {
   "cell_type": "code",
   "execution_count": 14,
   "metadata": {},
   "outputs": [],
   "source": [
    "### answer ###\n"
   ]
  },
  {
   "cell_type": "markdown",
   "metadata": {},
   "source": [
    "**Double click and write your explanations and comments here.**"
   ]
  },
  {
   "cell_type": "markdown",
   "metadata": {},
   "source": [
    "**14. Visualize the distributions of all numeric attributes grouped by the \"number_of_room\" variable using violin plots. Comment on the results.**  \n",
    "Hint: Please see the seaborn library documentation via https://seaborn.pydata.org/api.html."
   ]
  },
  {
   "cell_type": "code",
   "execution_count": 15,
   "metadata": {},
   "outputs": [],
   "source": [
    "### answer ###\n"
   ]
  },
  {
   "cell_type": "markdown",
   "metadata": {},
   "source": [
    "**Double click and write your explanations and comments here.**"
   ]
  },
  {
   "cell_type": "markdown",
   "metadata": {},
   "source": [
    "**15. What does the below violin plot show? Explain.**"
   ]
  },
  {
   "cell_type": "code",
   "execution_count": 17,
   "metadata": {},
   "outputs": [
    {
     "data": {
      "image/png": "[encoded data removed]",
      "text/plain": [
       "<Figure size 720x576 with 1 Axes>"
      ]
     },
     "metadata": {
      "needs_background": "light"
     },
     "output_type": "display_data"
    }
   ],
   "source": [
    "### answer ###\n",
    "plt.figure(figsize=(10, 8))\n",
    "sns.set_theme(style=\"whitegrid\")\n",
    "ax = sns.violinplot(x=\"neighbourhood\",y=\"price\", hue=\"number_of_bathroom\",  data=data_wo_na, palette=\"muted\", split=True)\n"
   ]
  },
  {
   "cell_type": "markdown",
   "metadata": {},
   "source": [
    "**Double click and write your explanations and comments here.**"
   ]
  },
  {
   "cell_type": "markdown",
   "metadata": {},
   "source": [
    "**16. Let's first create an array which has an exponential distribution. The code below is an example, you can change the parameters as you want or leave it as is.**"
   ]
  },
  {
   "cell_type": "code",
   "execution_count": 32,
   "metadata": {},
   "outputs": [
    {
     "data": {
      "text/plain": [
       "<seaborn.axisgrid.FacetGrid at 0x15d6fa47888>"
      ]
     },
     "execution_count": 32,
     "metadata": {},
     "output_type": "execute_result"
    },
    {
     "data": {
      "image/png": "[encoded data removed]",
      "text/plain": [
       "<Figure size 360x360 with 1 Axes>"
      ]
     },
     "metadata": {},
     "output_type": "display_data"
    }
   ],
   "source": [
    "np.random.seed(5) # for reproducibility\n",
    "array= np.random.exponential(scale=5,size=120)\n",
    "sns.displot(array)"
   ]
  },
  {
   "cell_type": "markdown",
   "metadata": {},
   "source": [
    "take_samples_from_given_data_calculate_mean: This function takes a sample from the given data with the specified sample size, then calculates the mean of this sample.\n",
    "For example, take_samples_from_given_data_calculate_mean(array,3) it takes three elements of the array randomly and calculates the mean of them.\n",
    "Let's take samples from array n=10 times and visualize the distribution of the means of these samples.\n"
   ]
  },
  {
   "cell_type": "code",
   "execution_count": 34,
   "metadata": {},
   "outputs": [
    {
     "data": {
      "text/plain": [
       "<seaborn.axisgrid.FacetGrid at 0x15d6f123608>"
      ]
     },
     "execution_count": 34,
     "metadata": {},
     "output_type": "execute_result"
    },
    {
     "data": {
      "image/png": "[encoded data removed]",
      "text/plain": [
       "<Figure size 360x360 with 1 Axes>"
      ]
     },
     "metadata": {},
     "output_type": "display_data"
    }
   ],
   "source": [
    "def take_samples_from_given_data_calculate_mean(data, sample_size):\n",
    "    sample=np.random.choice(data,sample_size, replace=False)\n",
    "    return np.mean(sample)\n",
    "\n",
    "n=10\n",
    "samples_mean_list=[]\n",
    "for i in range (n):\n",
    "    samples_mean_list.append(take_samples_from_given_data_calculate_mean(data=array,sample_size=7))  \n",
    "sns.displot(samples_mean_list)"
   ]
  },
  {
   "cell_type": "markdown",
   "metadata": {},
   "source": [
    "Now repeat this visualization step for  n=50, n=100, n=500 and n=5000 and comment on your findings."
   ]
  },
  {
   "cell_type": "code",
   "execution_count": 16,
   "metadata": {},
   "outputs": [],
   "source": [
    "# answer\n"
   ]
  },
  {
   "cell_type": "code",
   "execution_count": null,
   "metadata": {},
   "outputs": [],
   "source": []
  }
 ],
 "metadata": {
  "kernelspec": {
   "display_name": "Python 3",
   "language": "python",
   "name": "python3"
  },
  "language_info": {
   "codemirror_mode": {
    "name": "ipython",
    "version": 3
   },
   "file_extension": ".py",
   "mimetype": "text/x-python",
   "name": "python",
   "nbconvert_exporter": "python",
   "pygments_lexer": "ipython3",
   "version": "3.7.6"
  }
 },
 "nbformat": 4,
 "nbformat_minor": 4
}
